{
 "cells": [
  {
   "cell_type": "code",
   "execution_count": 4,
   "metadata": {},
   "outputs": [],
   "source": [
    "import pandas as pd\n",
    "import numpy as np\n",
    "import math\n",
    "import matplotlib.pyplot as plt\n",
    "import matplotlib.image as mpimg\n",
    "import csv\n",
    "import time\n",
    "from selenium import webdriver\n",
    "from selenium.webdriver.common.by import By\n",
    "from selenium.webdriver.chrome.options import Options\n",
    "import re  \n",
    "import requests\n",
    "from bs4 import BeautifulSoup\n",
    "\n",
    "import unicodedata\n",
    "from PIL import Image\n",
    "import requests\n",
    "from io import BytesIO\n",
    "import tkinter as tk\n",
    "from tkinter import Label\n",
    "from PIL import Image, ImageTk\n",
    "from io import BytesIO\n",
    "import threading\n",
    "from IPython.display import display\n",
    "\n",
    "import plotly.express as px\n",
    "import ipywidgets as widgets\n",
    "from ipywidgets import interact, VBox, HBox\n",
    "import pandas as pd\n",
    "import ipywidgets as widgets\n",
    "from ipywidgets import VBox, HBox, Dropdown, FloatRangeSlider, IntSlider, Checkbox, Layout, Output\n",
    "import seaborn as sns"
   ]
  },
  {
   "cell_type": "code",
   "execution_count": 7,
   "metadata": {},
   "outputs": [],
   "source": [
    "df=pd.read_csv('..\\Datos\\datos_subastas_procesado.csv')\n",
    "Artistas=pd.read_csv('..\\Datos\\Artistas.csv')\n",
    "Subastas=pd.read_csv('..\\Datos\\Subastas.csv')"
   ]
  },
  {
   "cell_type": "code",
   "execution_count": null,
   "metadata": {},
   "outputs": [],
   "source": []
  }
 ],
 "metadata": {
  "kernelspec": {
   "display_name": "ENTV",
   "language": "python",
   "name": "python3"
  },
  "language_info": {
   "codemirror_mode": {
    "name": "ipython",
    "version": 3
   },
   "file_extension": ".py",
   "mimetype": "text/x-python",
   "name": "python",
   "nbconvert_exporter": "python",
   "pygments_lexer": "ipython3",
   "version": "3.11.9"
  }
 },
 "nbformat": 4,
 "nbformat_minor": 2
}
